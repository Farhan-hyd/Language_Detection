{
  "cells": [
    {
      "cell_type": "markdown",
      "metadata": {
        "id": "view-in-github",
        "colab_type": "text"
      },
      "source": [
        "<a href=\"https://colab.research.google.com/github/Farhan-hyd/Language_Detection/blob/main/laguage_detection.ipynb\" target=\"_parent\"><img src=\"https://colab.research.google.com/assets/colab-badge.svg\" alt=\"Open In Colab\"/></a>"
      ]
    },
    {
      "cell_type": "code",
      "execution_count": 1,
      "metadata": {
        "id": "5FcZeMLW8ubt"
      },
      "outputs": [],
      "source": [
        "import re\n",
        "\n",
        "import pandas as pd\n",
        "import numpy as n\n",
        "import seaborn as sns\n",
        "import matplotlib.pyplot as plt\n",
        "import warnings\n",
        "\n",
        "from sklearn.preprocessing import LabelEncoder\n",
        "from sklearn.feature_extraction.text import CountVectorizer\n",
        "from sklearn.model_selection import train_test_split\n",
        "from sklearn.naive_bayes import MultinomialNB\n",
        "from sklearn.metrics import accuracy_score, confusion_matrix, classification_report\n",
        "\n",
        "warnings.simplefilter(\"ignore\")"
      ]
    },
    {
      "cell_type": "code",
      "execution_count": 6,
      "metadata": {
        "colab": {
          "base_uri": "https://localhost:8080/"
        },
        "id": "LpcqZB5x8ubx",
        "outputId": "2ec71df2-044f-499e-c53c-920486e947fb"
      },
      "outputs": [
        {
          "output_type": "stream",
          "name": "stdout",
          "text": [
            "                                                Text Language\n",
            "0   Nature, in the broadest sense, is the natural...  English\n",
            "1  \"Nature\" can refer to the phenomena of the phy...  English\n",
            "2  The study of nature is a large, if not the onl...  English\n",
            "3  Although humans are part of nature, human acti...  English\n",
            "4  [1] The word nature is borrowed from the Old F...  English\n",
            "5  [2] In ancient philosophy, natura is mostly us...  English\n",
            "6  [3][4] \\nThe concept of nature as a whole, the...  English\n",
            "7  During the advent of modern scientific method ...  English\n",
            "8  [5][6] With the Industrial revolution, nature ...  English\n",
            "9  However, a vitalist vision of nature, closer t...  English\n"
          ]
        }
      ],
      "source": [
        "data = pd.read_csv(\"/content/data/LanguageDetection.csv\")\n",
        "print(data.head(10))"
      ]
    },
    {
      "cell_type": "code",
      "execution_count": 7,
      "metadata": {
        "id": "3uMg5ns98ub0",
        "colab": {
          "base_uri": "https://localhost:8080/"
        },
        "outputId": "3e7fd735-009b-41f2-cf87-9d2ab57511a4"
      },
      "outputs": [
        {
          "output_type": "execute_result",
          "data": {
            "text/plain": [
              "English       1385\n",
              "French        1014\n",
              "Spanish        819\n",
              "Portugeese     739\n",
              "Italian        698\n",
              "Russian        692\n",
              "Sweedish       676\n",
              "Malayalam      594\n",
              "Dutch          546\n",
              "Arabic         536\n",
              "Turkish        474\n",
              "German         470\n",
              "Tamil          469\n",
              "Danish         428\n",
              "Kannada        369\n",
              "Greek          365\n",
              "Hindi           63\n",
              "Name: Language, dtype: int64"
            ]
          },
          "metadata": {},
          "execution_count": 7
        }
      ],
      "source": [
        "data[\"Language\"].value_counts()"
      ]
    },
    {
      "cell_type": "code",
      "execution_count": 8,
      "metadata": {
        "id": "dwXeqsvV8ub1"
      },
      "outputs": [],
      "source": [
        "X = data[\"Text\"]\n",
        "y = data[\"Language\"]"
      ]
    },
    {
      "cell_type": "code",
      "execution_count": 9,
      "metadata": {
        "id": "28VILBB08ub3"
      },
      "outputs": [],
      "source": [
        "le = LabelEncoder()\n",
        "y = le.fit_transform(y)"
      ]
    },
    {
      "cell_type": "code",
      "execution_count": 10,
      "metadata": {
        "id": "UD097oFr8ub4"
      },
      "outputs": [],
      "source": [
        "data_list = []\n",
        "for text in X:\n",
        "        text = re.sub(r'[!@#$(),n\"%^*?:;~`0-9]', ' ', text)\n",
        "        text = re.sub(r'[[]]', ' ', text)\n",
        "        text = text.lower()\n",
        "        data_list.append(text)"
      ]
    },
    {
      "cell_type": "code",
      "execution_count": 11,
      "metadata": {
        "id": "Nk4wARGJ8ub6",
        "colab": {
          "base_uri": "https://localhost:8080/"
        },
        "outputId": "c16afcb5-bc63-447d-ede0-c623abf0dfbc"
      },
      "outputs": [
        {
          "output_type": "execute_result",
          "data": {
            "text/plain": [
              "(10337, 34937)"
            ]
          },
          "metadata": {},
          "execution_count": 11
        }
      ],
      "source": [
        "cv = CountVectorizer()\n",
        "X = cv.fit_transform(data_list).toarray()\n",
        "X.shape"
      ]
    },
    {
      "cell_type": "code",
      "execution_count": 12,
      "metadata": {
        "id": "zi4GbPDx8ub8"
      },
      "outputs": [],
      "source": [
        "x_train, x_test, y_train, y_test = train_test_split(X, y, test_size = 0.20)"
      ]
    },
    {
      "cell_type": "code",
      "execution_count": 13,
      "metadata": {
        "id": "UWT5xMiw8ub9",
        "colab": {
          "base_uri": "https://localhost:8080/"
        },
        "outputId": "2ef6e8c1-6c85-426c-9cf1-cc26547f1cc2"
      },
      "outputs": [
        {
          "output_type": "execute_result",
          "data": {
            "text/plain": [
              "MultinomialNB()"
            ]
          },
          "metadata": {},
          "execution_count": 13
        }
      ],
      "source": [
        "model = MultinomialNB()\n",
        "model.fit(x_train, y_train)"
      ]
    },
    {
      "cell_type": "code",
      "execution_count": 14,
      "metadata": {
        "id": "NSzaKVV38ub_"
      },
      "outputs": [],
      "source": [
        "y_pred = model.predict(x_test)"
      ]
    },
    {
      "cell_type": "code",
      "execution_count": 15,
      "metadata": {
        "id": "mjDmZKu48ucA",
        "colab": {
          "base_uri": "https://localhost:8080/"
        },
        "outputId": "1be12971-e99b-4dc0-9d32-ebdc0cee9107"
      },
      "outputs": [
        {
          "output_type": "stream",
          "name": "stdout",
          "text": [
            "Accuracy is : 0.9738878143133463\n"
          ]
        }
      ],
      "source": [
        "ac = accuracy_score(y_test, y_pred)\n",
        "cm = confusion_matrix(y_test, y_pred)\n",
        "\n",
        "print(\"Accuracy is :\",ac)"
      ]
    },
    {
      "cell_type": "code",
      "execution_count": 16,
      "metadata": {
        "id": "n1vMznJ88ucB",
        "colab": {
          "base_uri": "https://localhost:8080/",
          "height": 592
        },
        "outputId": "d8c967e6-800a-4e97-89f8-2b7f12189b91"
      },
      "outputs": [
        {
          "output_type": "display_data",
          "data": {
            "text/plain": [
              "<Figure size 1080x720 with 2 Axes>"
            ],
            "image/png": "[encoded data removed]"
          },
          "metadata": {
            "needs_background": "light"
          }
        }
      ],
      "source": [
        "plt.figure(figsize=(15,10))\n",
        "sns.heatmap(cm, annot = True)\n",
        "plt.show()"
      ]
    },
    {
      "cell_type": "code",
      "execution_count": 57,
      "metadata": {
        "id": "bEToSN-y8ucC"
      },
      "outputs": [],
      "source": [
        "def prediction(text):\n",
        "     x = cv.transform([text]).toarray() \n",
        "     lang = model.predict(x)\n",
        "     langs = model.predict_proba(x)\n",
        "     isPresent = False\n",
        "     for l in langs[0]:\n",
        "       if l > 0.75:\n",
        "         print()\n",
        "         lang = le.inverse_transform(lang)\n",
        "         print(\"The langauge is in\",lang[0],\"with probablity\",l*100,\"%\")\n",
        "         isPresent=True\n",
        "     if(not isPresent):\n",
        "       print(\"Language is not in dataset\")"
      ]
    },
    {
      "cell_type": "code",
      "execution_count": 58,
      "metadata": {
        "id": "RTxPNtdz8ucD",
        "colab": {
          "base_uri": "https://localhost:8080/"
        },
        "outputId": "79270474-a621-4112-b724-033e824873ce"
      },
      "outputs": [
        {
          "output_type": "stream",
          "name": "stdout",
          "text": [
            "Language is not in dataset\n",
            "\n",
            "The langauge is in Hindi with probablity 99.99999999815401 %\n",
            "\n",
            "The langauge is in Tamil with probablity 93.47631178919625 %\n",
            "\n",
            "The langauge is in Malayalam with probablity 99.99750039306603 %\n"
          ]
        }
      ],
      "source": [
        "# Bengali\n",
        "prediction(\" পদে শিক্ষক নিয়োগের জন্য কত জন ইন্টারভিউ দিয়েছিলেন? নানা তথ্যে বিভ্রান্ত \")\n",
        "# Hindi\n",
        "prediction(\"कविता तो एक जीवन को तोड़कर सकल जीवन बनाती है। और जीवन टूटता है, वह कवि का है।\")\n",
        "# Tamil\n",
        "prediction(\"வாழ்க்கை தத்துவம் திருக்குறள்\")\n",
        "# Malayalam\n",
        "prediction(\"അനലിറ്റിക്സ്, ഡാറ്റാ സയൻസ് പ്രൊഫഷണലുകൾക്കായി കമ്മ്യൂണിറ്റി അധിഷ്ഠിത വിജ്ഞാന പോർട്ടൽ അനലിറ്റിക്സ് വിദ്യ നൽകുന്നു\")"
      ]
    }
  ],
  "metadata": {
    "kernelspec": {
      "display_name": "Python 3 (ipykernel)",
      "language": "python",
      "name": "python3"
    },
    "language_info": {
      "codemirror_mode": {
        "name": "ipython",
        "version": 3
      },
      "file_extension": ".py",
      "mimetype": "text/x-python",
      "name": "python",
      "nbconvert_exporter": "python",
      "pygments_lexer": "ipython3",
      "version": "3.10.0"
    },
    "vscode": {
      "interpreter": {
        "hash": "26de051ba29f2982a8de78e945f0abaf191376122a1563185a90213a26c5da77"
      }
    },
    "colab": {
      "provenance": [],
      "collapsed_sections": [],
      "include_colab_link": true
    }
  },
  "nbformat": 4,
  "nbformat_minor": 0
}